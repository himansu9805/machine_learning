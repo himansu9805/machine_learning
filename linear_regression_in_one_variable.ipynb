{
  "nbformat": 4,
  "nbformat_minor": 0,
  "metadata": {
    "colab": {
      "name": "linear_regression_in_one_variable.ipynb",
      "provenance": [],
      "collapsed_sections": [],
      "toc_visible": true,
      "mount_file_id": "1yOJS2AgoIQrwBex4xCgWaq66kyCCrXs5",
      "authorship_tag": "ABX9TyP1LEHDrtUui1DoGPGVSk/j",
      "include_colab_link": true
    },
    "kernelspec": {
      "name": "python3",
      "display_name": "Python 3"
    },
    "language_info": {
      "name": "python"
    }
  },
  "cells": [
    {
      "cell_type": "markdown",
      "metadata": {
        "id": "view-in-github",
        "colab_type": "text"
      },
      "source": [
        "<a href=\"https://colab.research.google.com/github/himansu9805/machine_learning/blob/main/linear_regression_in_one_variable.ipynb\" target=\"_parent\"><img src=\"https://colab.research.google.com/assets/colab-badge.svg\" alt=\"Open In Colab\"/></a>"
      ]
    },
    {
      "cell_type": "markdown",
      "source": [
        "# Implementing linear regression in one variable using gradient descent algorithm"
      ],
      "metadata": {
        "id": "0FnQQr28fbuH"
      }
    },
    {
      "cell_type": "markdown",
      "source": [
        "\n",
        "\n",
        "### Importing required packages and dataset\n",
        "\n",
        "\n",
        "\n"
      ],
      "metadata": {
        "id": "NJKg1Ow5iGMI"
      }
    },
    {
      "cell_type": "code",
      "source": [
        "import numpy as np\n",
        "import pandas as pd\n",
        "import matplotlib.pyplot as plt\n",
        "\n",
        "data = pd.read_csv('/content/drive/MyDrive/Machine Learning/ex1data1.txt')\n",
        "X = data.iloc[:, 0]\n",
        "Y = data.iloc[:, 1]\n",
        "plt.scatter(X, Y)\n",
        "plt.show()"
      ],
      "metadata": {
        "id": "7XLUqc25fOcr",
        "colab": {
          "base_uri": "https://localhost:8080/",
          "height": 266
        },
        "outputId": "ec5b31e5-6dae-4218-ef4e-e6792545b2cd"
      },
      "execution_count": 1,
      "outputs": [
        {
          "output_type": "display_data",
          "data": {
            "image/png": "[encoded data removed]",
            "text/plain": [
              "<Figure size 432x288 with 1 Axes>"
            ]
          },
          "metadata": {
            "needs_background": "light"
          }
        }
      ]
    },
    {
      "cell_type": "markdown",
      "source": [
        "### Defining the linear regression class and required functions using gradient descent algorithm"
      ],
      "metadata": {
        "id": "wN0cNAU5iXhz"
      }
    },
    {
      "cell_type": "code",
      "source": [
        "class LinearRegressionGD:\n",
        "  def __init__(self):\n",
        "    self.m = 0\n",
        "    self.c = 0\n",
        "  \n",
        "  def fit(self, X, Y, learning_rate, epochs):\n",
        "    m = 0\n",
        "    c = 0\n",
        "    n = float(len(X))\n",
        "\n",
        "    for i in range(epochs):\n",
        "      Y_pred = m*X + c\n",
        "      D_m = (1/n) * sum((Y_pred - Y) * X)\n",
        "      D_c = (1/n) * sum(Y_pred - Y)\n",
        "      m = m - learning_rate*D_m\n",
        "      c = c - learning_rate*D_c\n",
        "\n",
        "    self.m = m\n",
        "    self.c = c\n",
        "\n",
        "\n",
        "  def predict(self, X):\n",
        "    return self.m*X + self.c"
      ],
      "metadata": {
        "id": "sTRVhjnYikQR"
      },
      "execution_count": 2,
      "outputs": []
    },
    {
      "cell_type": "markdown",
      "source": [
        "### Fitting data with the aboved defined function"
      ],
      "metadata": {
        "id": "sEuMounCsxXv"
      }
    },
    {
      "cell_type": "code",
      "source": [
        "from sklearn.model_selection import train_test_split\n",
        "\n",
        "X_train, X_test, Y_train, Y_test = train_test_split(X, Y, test_size=0.33, random_state=42)\n",
        "\n",
        "lrgd = LinearRegressionGD()\n",
        "lrgd.fit(X_train, Y_train, learning_rate=0.001, epochs=10000)"
      ],
      "metadata": {
        "id": "zebgz-xDkgxS"
      },
      "execution_count": 3,
      "outputs": []
    },
    {
      "cell_type": "markdown",
      "source": [
        "### Predicting values"
      ],
      "metadata": {
        "id": "NrLOKZxQuaCJ"
      }
    },
    {
      "cell_type": "code",
      "source": [
        "Y_pred = lrgd.predict(X_test)\n",
        "\n",
        "plt.scatter(X_test, Y_test) \n",
        "plt.plot([min(X_test), max(X_test)], [min(Y_pred), max(Y_pred)], color='red')\n",
        "plt.show()"
      ],
      "metadata": {
        "colab": {
          "base_uri": "https://localhost:8080/",
          "height": 266
        },
        "id": "Qtw_Wk8hlODA",
        "outputId": "bacbd31c-16b4-4c0c-ec54-b9b2320e4a80"
      },
      "execution_count": 4,
      "outputs": [
        {
          "output_type": "display_data",
          "data": {
            "image/png": "[encoded data removed]",
            "text/plain": [
              "<Figure size 432x288 with 1 Axes>"
            ]
          },
          "metadata": {
            "needs_background": "light"
          }
        }
      ]
    },
    {
      "cell_type": "markdown",
      "source": [
        "### Calculating the accuracy"
      ],
      "metadata": {
        "id": "rm7I_DDQlIgB"
      }
    },
    {
      "cell_type": "code",
      "source": [
        "def my_r2_score(Y, Y_pred):\n",
        "  n = len(Y)\n",
        "  sst = 0\n",
        "  ssr = 0\n",
        "  Y_mean = np.asarray(Y).mean()\n",
        "  for i in range(n):\n",
        "    ssr += (Y.iloc[i] - Y_pred.iloc[i]) ** 2\n",
        "    sst += (Y.iloc[i] - Y_mean) ** 2\n",
        "  r2 = 1 - (ssr/sst)\n",
        "  print(r2)"
      ],
      "metadata": {
        "id": "2z2fKKm9m1z4"
      },
      "execution_count": 5,
      "outputs": []
    },
    {
      "cell_type": "code",
      "source": [
        "my_r2_score(Y_test, Y_pred)"
      ],
      "metadata": {
        "colab": {
          "base_uri": "https://localhost:8080/"
        },
        "id": "XartBz_CqpBa",
        "outputId": "7dc89c7a-227e-48e5-93fb-49534fbb8a8e"
      },
      "execution_count": 7,
      "outputs": [
        {
          "output_type": "stream",
          "name": "stdout",
          "text": [
            "0.7950850545131738\n"
          ]
        }
      ]
    }
  ]
}